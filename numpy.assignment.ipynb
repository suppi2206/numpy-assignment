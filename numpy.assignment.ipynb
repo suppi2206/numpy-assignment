{
 "cells": [
  {
   "cell_type": "code",
   "execution_count": 2,
   "id": "08bea183",
   "metadata": {},
   "outputs": [
    {
     "name": "stdout",
     "output_type": "stream",
     "text": [
      "[0 0 0 0 1 0 0 0 0 0]\n"
     ]
    }
   ],
   "source": [
    "#Create a null vector of size 10 but the fifth value which is 1\n",
    "import numpy as np\n",
    "a=np.zeros(10,dtype='int32')\n",
    "a[4]=1\n",
    "print(a)"
   ]
  },
  {
   "cell_type": "code",
   "execution_count": 3,
   "id": "7f75c164",
   "metadata": {},
   "outputs": [
    {
     "name": "stdout",
     "output_type": "stream",
     "text": [
      "[10 11 12 13 14 15 16 17 18 19 20 21 22 23 24 25 26 27 28 29 30 31 32 33\n",
      " 34 35 36 37 38 39 40 41 42 43 44 45 46 47 48]\n"
     ]
    }
   ],
   "source": [
    "#Create a vector with values ranging from 10 to 49.\n",
    "import numpy as np\n",
    "a=np.arange(10,49)\n",
    "print(a)"
   ]
  },
  {
   "cell_type": "code",
   "execution_count": 6,
   "id": "eca015a2",
   "metadata": {},
   "outputs": [
    {
     "name": "stdout",
     "output_type": "stream",
     "text": [
      "[[0 1 2]\n",
      " [3 4 5]\n",
      " [6 7 8]]\n"
     ]
    }
   ],
   "source": [
    "#Create a 3x3 matrix with values ranging from 0 to 8\n",
    "import numpy as np\n",
    "x= np.arange(0,9).reshape(3,3)\n",
    "print(x)"
   ]
  },
  {
   "cell_type": "code",
   "execution_count": 10,
   "id": "753cac21",
   "metadata": {},
   "outputs": [
    {
     "data": {
      "text/plain": [
       "array([[0, 2],\n",
       "       [1, 0],\n",
       "       [1, 2]], dtype=int64)"
      ]
     },
     "execution_count": 10,
     "metadata": {},
     "output_type": "execute_result"
    }
   ],
   "source": [
    "#Find indices of non-zero elements from [1,2,0,0,4,0]\n",
    "import numpy as np\n",
    "\n",
    "arr=np.array([[1,2,0],[0,4,0]])\n",
    "np.argwhere(arr==0)\n"
   ]
  },
  {
   "cell_type": "code",
   "execution_count": 11,
   "id": "b7337a94",
   "metadata": {},
   "outputs": [
    {
     "name": "stdout",
     "output_type": "stream",
     "text": [
      "[[0.89023219 0.43563582 0.20728026 0.01612731 0.88224669 0.90258087\n",
      "  0.01069925 0.80973827 0.63861184 0.83169977]\n",
      " [0.22970807 0.72325456 0.25780661 0.30513984 0.63962431 0.07455701\n",
      "  0.15035623 0.98124504 0.34985321 0.04676926]\n",
      " [0.74287979 0.86514401 0.4207997  0.42490591 0.25618058 0.15624748\n",
      "  0.70954988 0.16335083 0.74641822 0.56944751]\n",
      " [0.93197896 0.60296709 0.34920066 0.7548941  0.49990364 0.6234555\n",
      "  0.52583296 0.2674478  0.51763382 0.28521776]\n",
      " [0.06239321 0.11535585 0.8822797  0.6561794  0.07672317 0.50538377\n",
      "  0.58587052 0.87856455 0.88363981 0.37166261]\n",
      " [0.63187491 0.1380386  0.95304104 0.44251368 0.87665736 0.25452448\n",
      "  0.15975847 0.08847383 0.49728183 0.04798258]\n",
      " [0.61735018 0.35942846 0.5282059  0.54772297 0.03615827 0.5869904\n",
      "  0.72331445 0.92182267 0.50365295 0.99814474]\n",
      " [0.76807181 0.96817526 0.7254161  0.07552855 0.94220555 0.49254205\n",
      "  0.24779865 0.76322324 0.62592849 0.75698819]\n",
      " [0.44566973 0.86843725 0.10243696 0.67085868 0.59475827 0.06513804\n",
      "  0.08343772 0.74766358 0.69760493 0.79456656]\n",
      " [0.19244354 0.09836763 0.68760027 0.69118331 0.12994158 0.74641098\n",
      "  0.26518602 0.22485502 0.79348107 0.77869214]]\n"
     ]
    }
   ],
   "source": [
    "# Create a 10x10 array with random values and find the minimum and maximum values\n",
    "import numpy as np\n",
    "a=np.random.random((10,10))\n",
    "print(a)"
   ]
  },
  {
   "cell_type": "code",
   "execution_count": 15,
   "id": "0c0a2002",
   "metadata": {},
   "outputs": [
    {
     "name": "stdout",
     "output_type": "stream",
     "text": [
      "[33  4 68 19 52 46 39  0 15 43 79 63 22  1 60 92 17 48 78 10 53 11 35 72\n",
      " 69  9 15 47 66 51]\n"
     ]
    },
    {
     "data": {
      "text/plain": [
       "40.56666666666667"
      ]
     },
     "execution_count": 15,
     "metadata": {},
     "output_type": "execute_result"
    }
   ],
   "source": [
    "#Create a random vector of size 30 and find the mean value\n",
    "import numpy as np\n",
    "a=np.random.randint(0,100,size=(30))\n",
    "print(a)\n",
    "np.mean(a)"
   ]
  },
  {
   "cell_type": "code",
   "execution_count": null,
   "id": "105c481c",
   "metadata": {},
   "outputs": [],
   "source": []
  },
  {
   "cell_type": "code",
   "execution_count": null,
   "id": "b4c7c83f",
   "metadata": {},
   "outputs": [],
   "source": []
  }
 ],
 "metadata": {
  "kernelspec": {
   "display_name": "Python 3 (ipykernel)",
   "language": "python",
   "name": "python3"
  },
  "language_info": {
   "codemirror_mode": {
    "name": "ipython",
    "version": 3
   },
   "file_extension": ".py",
   "mimetype": "text/x-python",
   "name": "python",
   "nbconvert_exporter": "python",
   "pygments_lexer": "ipython3",
   "version": "3.10.6"
  }
 },
 "nbformat": 4,
 "nbformat_minor": 5
}
